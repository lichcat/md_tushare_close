{
 "cells": [
  {
   "cell_type": "markdown",
   "metadata": {},
   "source": [
    "# 获取指定时间段指定个股代码的收盘价\n",
    "## 使用依赖 [tushare](http://tushare.org/)\n",
    " - 安装python\n",
    " - 安装pandas\n",
    " - lxml也是必须的，正常情况下安装了Anaconda后无须单独安装，如果没有可执行：pip install lxml\n",
    "\n",
    "建议安装 [Anaconda](http://www.continuum.io/downloads)\n",
    "一次安装包括了Python环境和全部依赖包，减少问题出现的几率。\n",
    "\n",
    "## [安装 tushare ](http://tushare.org/index.html#id5)"
   ]
  },
  {
   "cell_type": "code",
   "execution_count": 1,
   "metadata": {
    "collapsed": false
   },
   "outputs": [
    {
     "name": "stdout",
     "output_type": "stream",
     "text": [
      "1.2.0\n"
     ]
    }
   ],
   "source": [
    "import os\n",
    "import re\n",
    "import numpy as np\n",
    "import pandas as pd\n",
    "import tushare as ts\n",
    "print(ts.__version__)\n"
   ]
  },
  {
   "cell_type": "code",
   "execution_count": 2,
   "metadata": {
    "collapsed": true
   },
   "outputs": [],
   "source": [
    "col_code = u'证券代码'"
   ]
  },
  {
   "cell_type": "code",
   "execution_count": 3,
   "metadata": {
    "collapsed": false
   },
   "outputs": [
    {
     "name": "stdout",
     "output_type": "stream",
     "text": [
      "current directory is : /Users/limengchen/Desktop/md_interface\n"
     ]
    }
   ],
   "source": [
    "# 文件夹路径\n",
    "dirpath = os.getcwd()\n",
    "print(\"current directory is : \" + dirpath)\n",
    "path_sep = os.path.sep"
   ]
  },
  {
   "cell_type": "markdown",
   "metadata": {},
   "source": [
    "**下面的cell获取全量个股列表**"
   ]
  },
  {
   "cell_type": "code",
   "execution_count": 4,
   "metadata": {
    "collapsed": false
   },
   "outputs": [],
   "source": [
    "base = ts.get_stock_basics()\n",
    "code_list = base.index.unique().sort_values()\n",
    "code_list.name = col_code"
   ]
  },
  {
   "cell_type": "markdown",
   "metadata": {},
   "source": [
    "**下面的cell：**\n",
    " - 标记是否从当前目录下的 security.csv 文件中读取产品代码\n",
    " - 若*load_security_from_file* 为False， 取上面的全量个股列表code_list \n",
    " - 若*load_security_from_file* 为True，取文件中读取结果 "
   ]
  },
  {
   "cell_type": "code",
   "execution_count": 5,
   "metadata": {
    "collapsed": false
   },
   "outputs": [],
   "source": [
    "load_security_from_file = True\n",
    "\n",
    "if load_security_from_file:\n",
    "    security_file = dirpath + path_sep + 'security.csv'\n",
    "    securities_csv =  pd.read_csv(security_file, header=None, dtype=str, names=[col_code])\n",
    "    securities_from_file = securities_csv[col_code]\n",
    "    code_list = securities_from_file"
   ]
  },
  {
   "cell_type": "markdown",
   "metadata": {},
   "source": [
    "**下面的cell：**\n",
    "- 设置日期范围 [date_start, date_end)<br>\n",
    "- *date_start* 开始日期 <br>\n",
    "- *date_end* 结束日期（不含当日）<br>\n",
    "- 格式为 *YYYY-MM-DD* "
   ]
  },
  {
   "cell_type": "code",
   "execution_count": 6,
   "metadata": {
    "collapsed": false
   },
   "outputs": [],
   "source": [
    "date_start = '2018-01-01'\n",
    "date_end = '2018-05-30'\n",
    "cal = ts.trade_cal()\n",
    "date_list = cal[cal.isOpen==1]['calendarDate']\n",
    "date_list_range = date_list[(date_list > date_start) & (date_list < date_end)].tolist()"
   ]
  },
  {
   "cell_type": "code",
   "execution_count": 7,
   "metadata": {
    "collapsed": false
   },
   "outputs": [],
   "source": [
    "fmt_date_list_range = [re.sub('-','',x) for x in date_list_range]"
   ]
  },
  {
   "cell_type": "markdown",
   "metadata": {},
   "source": [
    "** 形成 代码为行索引，日期为列索引的 矩阵（dataframe，一种pandas的数据结构），初始化为NaN **"
   ]
  },
  {
   "cell_type": "code",
   "execution_count": 8,
   "metadata": {
    "collapsed": false
   },
   "outputs": [],
   "source": [
    "index_len = len(code_list)\n",
    "column_len = len(date_list_range)\n",
    "init_matrix = np.empty((index_len,column_len))\n",
    "init_matrix[:] = np.nan\n",
    "frame_securities = pd.DataFrame(init_matrix, columns=fmt_date_list_range, index=code_list)"
   ]
  },
  {
   "cell_type": "markdown",
   "metadata": {},
   "source": [
    "**下面的cell：**\n",
    " - loop 产品列表，对每个产品，通过tushare的 get_k_data得到历史数据，取其中的 *date*和*close*部分，并依次为刚才建立的frame_securities赋值\n",
    " - 每 *output_freq* 个产品处理后输出一次\n",
    " - 对于给定的日期范围内，全部处于停牌或未上市状态的产品，d_data_security不含数据，此时输出相关提示\n"
   ]
  },
  {
   "cell_type": "code",
   "execution_count": 9,
   "metadata": {
    "collapsed": false,
    "scrolled": true
   },
   "outputs": [
    {
     "name": "stdout",
     "output_type": "stream",
     "text": [
      "66 no data for  600084  in [ 2018-01-01  ,  2018-05-30 ]\n",
      "100  in total count 255\n",
      "118 no data for  600145  in [ 2018-01-01  ,  2018-05-30 ]\n",
      "<urlopen error timed out>\n",
      "<urlopen error timed out>\n",
      "<urlopen error timed out>\n",
      "182 no data for  600219  in [ 2018-01-01  ,  2018-05-30 ]\n",
      "<urlopen error timed out>\n",
      "187 no data for  600226  in [ 2018-01-01  ,  2018-05-30 ]\n",
      "200  in total count 255\n",
      "done\n",
      "        20180102  20180103  20180104  20180105  20180108  20180109  20180110  \\\n",
      "证券代码                                                                           \n",
      "000002    32.560    32.330    33.120     34.76    35.990    35.840    35.670   \n",
      "600000    12.720    12.660    12.660     12.69    12.680    12.700    13.020   \n",
      "600004    14.800    14.800    14.620     14.57    14.500    15.020    14.850   \n",
      "600006     5.910     5.910     5.850      5.85     5.920     5.930     5.820   \n",
      "600007    16.742    16.615    16.624     16.83    16.888    17.534    17.368   \n",
      "\n",
      "        20180111  20180112  20180115    ...     20180517  20180518  20180521  \\\n",
      "证券代码                                    ...                                    \n",
      "000002    35.150    35.550    37.090    ...        26.79     27.15     27.07   \n",
      "600000    12.940    12.910    13.020    ...        10.83     10.90     10.94   \n",
      "600004    14.690    14.950    15.400    ...        16.01     16.00     16.13   \n",
      "600006     5.790     5.880     5.710    ...         4.55      4.60      4.67   \n",
      "600007    17.064    16.976    16.429    ...        13.89     13.89     14.70   \n",
      "\n",
      "        20180522  20180523  20180524  20180525  20180528  20180529  20180530  \n",
      "证券代码                                                                          \n",
      "000002     26.72     26.80     26.65     26.39     26.50     25.60     24.64  \n",
      "600000     10.88     10.80     10.79     10.71     10.76     10.64     10.44  \n",
      "600004     15.98     15.62     15.55     15.40     15.88     16.04     15.86  \n",
      "600006      4.69      4.69      4.65      4.54      4.45      4.45      4.33  \n",
      "600007     15.11     15.04     15.80     15.65     15.51     15.95     15.36  \n",
      "\n",
      "[5 rows x 98 columns]\n"
     ]
    }
   ],
   "source": [
    "cnt = 0\n",
    "output_freq = 100\n",
    "total = len(code_list)\n",
    "\n",
    "for security in code_list:\n",
    "    try:\n",
    "        d_data_security = ts.get_k_data(code=security, start=date_start, end=date_end)\n",
    "        if ('date' in d_data_security.columns) and ('close' in d_data_security.columns) :\n",
    "            frame = d_data_security[['date','close']]\n",
    "            \n",
    "            for index, row in frame.iterrows():\n",
    "                fmt_date = re.sub('-','',row['date'])\n",
    "                frame_securities.at[security, fmt_date] = row['close']\n",
    "        else:\n",
    "            # 停牌或未上市 不返回数据\n",
    "            print(cnt, 'no data for ', security, ' in [', date_start, ' , ', date_end, ']')\n",
    "            continue\n",
    "            \n",
    "        cnt += 1\n",
    "        if cnt % output_freq == 0 :\n",
    "            print(cnt, ' in total count', total)\n",
    "    except Exception as e:\n",
    "        print('error for ', cnt, ',', security, str(e))\n",
    "        continue\n",
    "        \n",
    "print('done')\n",
    "print(frame_securities.head())\n",
    "\n"
   ]
  },
  {
   "cell_type": "markdown",
   "metadata": {},
   "source": [
    "** 保存至当前路径下的excel： output.xlsx** "
   ]
  },
  {
   "cell_type": "code",
   "execution_count": 10,
   "metadata": {
    "collapsed": false
   },
   "outputs": [],
   "source": [
    "frame_securities.to_excel('output.xlsx')"
   ]
  },
  {
   "cell_type": "code",
   "execution_count": null,
   "metadata": {
    "collapsed": false
   },
   "outputs": [],
   "source": []
  },
  {
   "cell_type": "code",
   "execution_count": null,
   "metadata": {
    "collapsed": false
   },
   "outputs": [],
   "source": []
  },
  {
   "cell_type": "code",
   "execution_count": null,
   "metadata": {
    "collapsed": false
   },
   "outputs": [],
   "source": []
  },
  {
   "cell_type": "code",
   "execution_count": null,
   "metadata": {
    "collapsed": false
   },
   "outputs": [],
   "source": []
  },
  {
   "cell_type": "code",
   "execution_count": null,
   "metadata": {
    "collapsed": false
   },
   "outputs": [],
   "source": []
  },
  {
   "cell_type": "code",
   "execution_count": null,
   "metadata": {
    "collapsed": true
   },
   "outputs": [],
   "source": []
  }
 ],
 "metadata": {
  "kernelspec": {
   "display_name": "Python 3",
   "language": "python",
   "name": "python3"
  },
  "language_info": {
   "codemirror_mode": {
    "name": "ipython",
    "version": 3
   },
   "file_extension": ".py",
   "mimetype": "text/x-python",
   "name": "python",
   "nbconvert_exporter": "python",
   "pygments_lexer": "ipython3",
   "version": "3.6.0"
  }
 },
 "nbformat": 4,
 "nbformat_minor": 2
}
